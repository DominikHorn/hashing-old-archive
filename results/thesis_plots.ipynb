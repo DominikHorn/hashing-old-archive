{
 "cells": [
  {
   "cell_type": "code",
   "execution_count": 1,
   "id": "3db33e44-2d54-483e-9b00-cf938e1de950",
   "metadata": {},
   "outputs": [],
   "source": [
    "import pandas as pd\n",
    "import matplotlib\n",
    "import matplotlib.pyplot as plt\n",
    "\n",
    "import numpy as np"
   ]
  },
  {
   "cell_type": "code",
   "execution_count": 2,
   "id": "b25c5e38-ab61-4768-96ae-52e425e388cd",
   "metadata": {},
   "outputs": [],
   "source": [
    "matplotlib.use(\"pgf\")\n",
    "matplotlib.rcParams.update({\n",
    "  'font.size': 8,\n",
    "  'text.usetex': True,\n",
    "  'text.latex.preamble': r'\\usepackage{amsmath}',\n",
    "  'pgf.texsystem': \"pdflatex\",\n",
    "  'pgf.preamble': r'\\usepackage{amsfonts}',\n",
    "  #\"font.family\": \"serif\",\n",
    "  #\"pgf.rcfonts\": False,\n",
    "})"
   ]
  },
  {
   "cell_type": "code",
   "execution_count": 3,
   "id": "e308152c-4f8c-4468-a60c-b1c16bf2ac2c",
   "metadata": {},
   "outputs": [],
   "source": [
    "th_gcc_df = pd.read_csv(\"throughput_hash/throughput_hash-g++.csv\")\n",
    "th_clang_df = pd.read_csv(\"throughput_hash/throughput_hash-clang++.csv\")"
   ]
  },
  {
   "cell_type": "code",
   "execution_count": 4,
   "id": "60165a42-d390-4ffe-809a-46e21b88e965",
   "metadata": {},
   "outputs": [],
   "source": [
    "fig_width=6\n",
    "fig_height=3"
   ]
  },
  {
   "cell_type": "code",
   "execution_count": 5,
   "id": "d3829f17-b1e5-4e1e-9def-e30cb33abd2c",
   "metadata": {},
   "outputs": [],
   "source": [
    "def hashfn_name(h):\n",
    "    if \"fibonacci\" in h:\n",
    "        return \"Fibonacci\"\n",
    "    elif \"mult\" in h:\n",
    "        return \"Multiplicative\"\n",
    "    elif \"murmur\" in h:\n",
    "        return \"Murmur3\"\n",
    "    elif \"aqua\" in h:\n",
    "        return \"AquaHash\"\n",
    "    elif \"xxh3\" in h:\n",
    "        return \"XXHash\"\n",
    "    elif \"city\" in h:\n",
    "        return \"CityHash\"\n",
    "    elif \"tabulation\" in h:\n",
    "        return \"Tabulation\"\n",
    "    elif \"meow\" in h:\n",
    "        return \"MeowHash\"\n",
    "    \n",
    "    return \"UNKNOWN\"\n",
    "\n",
    "def reducer_name(r):\n",
    "    return {\n",
    "        \"do_nothing\": \"No Reduction\", \n",
    "        \"fastrange64\": \"Fastrange\",\n",
    "        \"fast_modulo\": \"Fast Modulo\", \n",
    "        \"modulo\": \"Modulo\"\n",
    "    }[r]\n",
    "\n",
    "def order(h):\n",
    "    if \"fibonacci\" in h:\n",
    "        return 0\n",
    "    elif \"mult\" in h:\n",
    "        return 1\n",
    "    elif \"murmur\" in h:\n",
    "        return 2\n",
    "    elif \"aqua\" in h:\n",
    "        return 3\n",
    "    elif \"xxh3\" in h:\n",
    "        return 4\n",
    "    elif \"city\" in h:\n",
    "        return 5\n",
    "    elif \"tabulation\" in h:\n",
    "        return 6\n",
    "    elif \"meow\" in h:\n",
    "        return 7\n",
    "    \n",
    "    return \"UNKNOWN\""
   ]
  },
  {
   "cell_type": "code",
   "execution_count": 6,
   "id": "91db2c88-4587-42ed-87fe-f3de0c00fb50",
   "metadata": {},
   "outputs": [],
   "source": [
    "th_gcc_df[\"throughput\"] = th_gcc_df[\"nanoseconds_per_key\"].apply(lambda x : 10**9 * 1.0 / x)\n",
    "th_gcc_df[\"order\"] = th_gcc_df[\"hash\"].apply(order)\n",
    "th_gcc_df = th_gcc_df[\n",
    "    (th_gcc_df[\"dataset\"] == \"osm_cellids_200M_uint64\")\n",
    "    & (th_gcc_df[\"hash\"].isin({\"mult_fibonacci_prime64\", \"mult_prime64\", \"murmur_finalizer64\", \"aqua0_64\", \"xxh3_128_low\", \"city64\", \"tabulation_1x255_64\", \"meow64_low\"}))\n",
    "]\n",
    "\n",
    "th_clang_df[\"throughput\"] = th_clang_df[\"nanoseconds_per_key\"].apply(lambda x : 10**9 * 1.0 / x)\n",
    "th_clang_df[\"order\"] = th_clang_df[\"hash\"].apply(order)\n",
    "th_clang_df = th_clang_df[\n",
    "    (th_clang_df[\"dataset\"] == \"osm_cellids_200M_uint64\")\n",
    "    & (th_clang_df[\"hash\"].isin({\"mult_fibonacci_prime64\", \"mult_prime64\", \"murmur_finalizer64\", \"aqua0_64\", \"xxh3_128_low\", \"city64\", \"tabulation_1x255_64\", \"meow64_low\"}))\n",
    "]"
   ]
  },
  {
   "cell_type": "code",
   "execution_count": 8,
   "id": "46e2757a-d3d8-4231-a8cc-5b8320954dac",
   "metadata": {},
   "outputs": [],
   "source": [
    "def plot_throughput(data, outname):\n",
    "    fig, axs = plt.subplots(2, 2, figsize=(fig_width, fig_height), sharex=True, sharey=True)\n",
    "\n",
    "    reducers = {'do_nothing': 0, 'modulo': 1, 'fastrange64': 2, 'fast_modulo': 3}\n",
    "    data = data[data[\"reducer\"].isin(reducers)].copy(deep=True)\n",
    "    data[\"reducer\"] = pd.Categorical(data[\"reducer\"], reducers.keys())\n",
    "    data = data.sort_values(by=[\"reducer\", \"throughput\"], key=lambda x: x.map(reducers))\n",
    "    for i, (reducer, df) in enumerate(data.groupby([\"reducer\"], sort=False)):\n",
    "        ax = axs[int(i / 2)][i % 2]\n",
    "        \n",
    "        ax.set_title(reducer_name(reducer))\n",
    "        ax.set_ylabel(\"Keys per Second\")\n",
    "        ax.set_yticks(np.arange(0, 10**9+1, 0.25 * 10**9))\n",
    "        ax.tick_params(\n",
    "            axis='x',\n",
    "            which='both',\n",
    "            top=False, \n",
    "            bottom=False, \n",
    "            labelbottom=False)\n",
    "        ax.grid(linestyle=\"--\", axis=\"y\")\n",
    "\n",
    "        df = df.sort_values(by=[\"order\"])\n",
    "        for j, (name, d) in enumerate(df.groupby([\"hash\"], sort=False)):\n",
    "            ax.bar(data=d, x=j, label=hashfn_name(name), height=\"throughput\")\n",
    "            \n",
    "    # legend in top right plot\n",
    "    axs[0][1].legend(loc=\"best\", ncol=2, borderpad=0.4, labelspacing=0.2, handlelength=1.5, handletextpad=0.3, columnspacing=1.0)\n",
    "\n",
    "    fig.savefig(f\"plots/{outname}.pdf\", bbox_inches=\"tight\", dpi=300)\n",
    "    fig.savefig(f\"plots/{outname}.pgf\", bbox_inches=\"tight\", dpi=300)\n",
    "        \n",
    "plot_throughput(th_gcc_df, \"throughput_hash_gcc\")\n",
    "plot_throughput(th_clang_df, \"throughput_hash_clang\")"
   ]
  },
  {
   "cell_type": "code",
   "execution_count": null,
   "id": "9905c8c1-7622-4d33-8ad1-f205e75c0988",
   "metadata": {},
   "outputs": [],
   "source": []
  }
 ],
 "metadata": {
  "kernelspec": {
   "display_name": "Python 3 (ipykernel)",
   "language": "python",
   "name": "python3"
  },
  "language_info": {
   "codemirror_mode": {
    "name": "ipython",
    "version": 3
   },
   "file_extension": ".py",
   "mimetype": "text/x-python",
   "name": "python",
   "nbconvert_exporter": "python",
   "pygments_lexer": "ipython3",
   "version": "3.9.13"
  }
 },
 "nbformat": 4,
 "nbformat_minor": 5
}
